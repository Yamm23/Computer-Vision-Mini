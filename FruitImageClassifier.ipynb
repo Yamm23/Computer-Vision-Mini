{
  "cells": [
    {
      "cell_type": "markdown",
      "metadata": {
        "id": "view-in-github",
        "colab_type": "text"
      },
      "source": [
        "<a href=\"https://colab.research.google.com/github/Yamm23/Computer-Vision-Mini/blob/main/FruitImageClassifier.ipynb\" target=\"_parent\"><img src=\"https://colab.research.google.com/assets/colab-badge.svg\" alt=\"Open In Colab\"/></a>"
      ]
    },
    {
      "cell_type": "code",
      "execution_count": null,
      "metadata": {
        "id": "FIdSybVgDPUC"
      },
      "outputs": [],
      "source": [
        "import os\n",
        "\n",
        "raw_path = \"/content/drive/MyDrive/CNN/Fruits9\"\n",
        "base_dir = \"/content/fruits_split\"\n",
        "train_dir, val_dir, test_dir = [os.path.join(base_dir, d) for d in [\"train\", \"val\", \"test\"]]\n",
        "\n",
        "# Create split folders\n",
        "for d in [train_dir, val_dir, test_dir]: os.makedirs(d, exist_ok=True)"
      ]
    },
    {
      "cell_type": "code",
      "source": [
        "import shutil\n",
        "from sklearn.model_selection import train_test_split\n",
        "\n",
        "# Go through each fruit class\n",
        "for fruit_class in os.listdir(raw_path):\n",
        "    class_path = os.path.join(raw_path, fruit_class)\n",
        "    if not os.path.isdir(class_path): continue\n",
        "\n",
        "    images = os.listdir(class_path)\n",
        "    train_imgs, temp_imgs = train_test_split(images, test_size=0.3, random_state=42)\n",
        "    val_imgs, test_imgs = train_test_split(temp_imgs, test_size=0.5, random_state=42)\n",
        "\n",
        "    for folder, files in zip([train_dir, val_dir, test_dir], [train_imgs, val_imgs, test_imgs]):\n",
        "        class_folder = os.path.join(folder, fruit_class)\n",
        "        os.makedirs(class_folder, exist_ok=True)\n",
        "        for img in files:\n",
        "            shutil.copy(os.path.join(class_path, img), os.path.join(class_folder, img))\n"
      ],
      "metadata": {
        "id": "xtsrjVOxs02a"
      },
      "execution_count": null,
      "outputs": []
    },
    {
      "cell_type": "code",
      "execution_count": null,
      "metadata": {
        "id": "es0iipiLNLGJ",
        "colab": {
          "base_uri": "https://localhost:8080/"
        },
        "outputId": "2bafd47f-e21f-4cc1-b9eb-82c07e0091c7"
      },
      "outputs": [
        {
          "output_type": "stream",
          "name": "stdout",
          "text": [
            "Found 251 images belonging to 9 classes.\n",
            "Found 54 images belonging to 9 classes.\n",
            "Found 54 images belonging to 9 classes.\n"
          ]
        }
      ],
      "source": [
        "from tensorflow.keras.preprocessing.image import ImageDataGenerator\n",
        "\n",
        "img_size = (64, 64)\n",
        "batch_size = 16\n",
        "\n",
        "train_gen = ImageDataGenerator(rescale=1./255).flow_from_directory(\n",
        "    train_dir, target_size=img_size, batch_size=batch_size, class_mode='categorical'\n",
        ")\n",
        "\n",
        "val_gen = ImageDataGenerator(rescale=1./255).flow_from_directory(\n",
        "    val_dir, target_size=img_size, batch_size=batch_size, class_mode='categorical'\n",
        ")\n",
        "\n",
        "test_gen = ImageDataGenerator(rescale=1./255).flow_from_directory(\n",
        "    test_dir, target_size=img_size, batch_size=batch_size, class_mode='categorical', shuffle=False\n",
        ")\n"
      ]
    },
    {
      "cell_type": "code",
      "execution_count": null,
      "metadata": {
        "colab": {
          "base_uri": "https://localhost:8080/"
        },
        "id": "G07aS-tBmBC3",
        "outputId": "60d863c9-fafc-4e51-8d47-21ea37a1f4ed"
      },
      "outputs": [
        {
          "output_type": "stream",
          "name": "stdout",
          "text": [
            "Epoch 1/15\n",
            "\u001b[1m16/16\u001b[0m \u001b[32m━━━━━━━━━━━━━━━━━━━━\u001b[0m\u001b[37m\u001b[0m \u001b[1m14s\u001b[0m 686ms/step - accuracy: 0.1380 - loss: 2.3869 - val_accuracy: 0.2407 - val_loss: 1.9410\n",
            "Epoch 2/15\n",
            "\u001b[1m16/16\u001b[0m \u001b[32m━━━━━━━━━━━━━━━━━━━━\u001b[0m\u001b[37m\u001b[0m \u001b[1m9s\u001b[0m 552ms/step - accuracy: 0.2824 - loss: 1.8677 - val_accuracy: 0.4444 - val_loss: 1.5870\n",
            "Epoch 3/15\n",
            "\u001b[1m16/16\u001b[0m \u001b[32m━━━━━━━━━━━━━━━━━━━━\u001b[0m\u001b[37m\u001b[0m \u001b[1m9s\u001b[0m 573ms/step - accuracy: 0.3787 - loss: 1.5473 - val_accuracy: 0.4444 - val_loss: 1.4481\n",
            "Epoch 4/15\n",
            "\u001b[1m16/16\u001b[0m \u001b[32m━━━━━━━━━━━━━━━━━━━━\u001b[0m\u001b[37m\u001b[0m \u001b[1m9s\u001b[0m 578ms/step - accuracy: 0.5170 - loss: 1.3295 - val_accuracy: 0.6296 - val_loss: 1.3496\n",
            "Epoch 5/15\n",
            "\u001b[1m16/16\u001b[0m \u001b[32m━━━━━━━━━━━━━━━━━━━━\u001b[0m\u001b[37m\u001b[0m \u001b[1m8s\u001b[0m 520ms/step - accuracy: 0.5624 - loss: 1.2014 - val_accuracy: 0.5556 - val_loss: 1.3419\n",
            "Epoch 6/15\n",
            "\u001b[1m16/16\u001b[0m \u001b[32m━━━━━━━━━━━━━━━━━━━━\u001b[0m\u001b[37m\u001b[0m \u001b[1m9s\u001b[0m 572ms/step - accuracy: 0.6795 - loss: 0.8628 - val_accuracy: 0.5741 - val_loss: 1.1963\n",
            "Epoch 7/15\n",
            "\u001b[1m16/16\u001b[0m \u001b[32m━━━━━━━━━━━━━━━━━━━━\u001b[0m\u001b[37m\u001b[0m \u001b[1m9s\u001b[0m 594ms/step - accuracy: 0.7660 - loss: 0.7556 - val_accuracy: 0.5556 - val_loss: 1.3273\n",
            "Epoch 8/15\n",
            "\u001b[1m16/16\u001b[0m \u001b[32m━━━━━━━━━━━━━━━━━━━━\u001b[0m\u001b[37m\u001b[0m \u001b[1m8s\u001b[0m 495ms/step - accuracy: 0.8017 - loss: 0.6900 - val_accuracy: 0.5556 - val_loss: 1.3579\n",
            "Epoch 9/15\n",
            "\u001b[1m16/16\u001b[0m \u001b[32m━━━━━━━━━━━━━━━━━━━━\u001b[0m\u001b[37m\u001b[0m \u001b[1m9s\u001b[0m 570ms/step - accuracy: 0.8391 - loss: 0.5017 - val_accuracy: 0.5926 - val_loss: 1.3311\n",
            "Epoch 10/15\n",
            "\u001b[1m16/16\u001b[0m \u001b[32m━━━━━━━━━━━━━━━━━━━━\u001b[0m\u001b[37m\u001b[0m \u001b[1m10s\u001b[0m 605ms/step - accuracy: 0.8968 - loss: 0.3198 - val_accuracy: 0.5741 - val_loss: 1.4025\n",
            "Epoch 11/15\n",
            "\u001b[1m16/16\u001b[0m \u001b[32m━━━━━━━━━━━━━━━━━━━━\u001b[0m\u001b[37m\u001b[0m \u001b[1m9s\u001b[0m 501ms/step - accuracy: 0.9148 - loss: 0.3240 - val_accuracy: 0.5741 - val_loss: 1.2920\n"
          ]
        }
      ],
      "source": [
        "from tensorflow.keras.models import Sequential\n",
        "from tensorflow.keras.layers import Conv2D, MaxPooling2D, Flatten, Dense, Dropout\n",
        "from tensorflow.keras.callbacks import EarlyStopping\n",
        "\n",
        "model = Sequential([\n",
        "    Conv2D(32, (3,3), activation='relu', input_shape=(64, 64, 3)),\n",
        "    MaxPooling2D(2,2),\n",
        "    Conv2D(64, (3,3), activation='relu'),\n",
        "    MaxPooling2D(2,2),\n",
        "    Flatten(),\n",
        "    Dense(128, activation='relu'),\n",
        "    Dropout(0.3),\n",
        "    Dense(train_gen.num_classes, activation='softmax')\n",
        "])\n",
        "\n",
        "model.compile(optimizer='adam', loss='categorical_crossentropy', metrics=['accuracy'])\n",
        "\n",
        "early_stop = EarlyStopping(monitor='val_loss', patience=5, restore_best_weights=True)\n",
        "\n",
        "history = model.fit(train_gen, epochs=15, validation_data=val_gen, callbacks=[early_stop])\n"
      ]
    },
    {
      "cell_type": "code",
      "execution_count": null,
      "metadata": {
        "colab": {
          "base_uri": "https://localhost:8080/"
        },
        "id": "Tagz4iE7mfWK",
        "outputId": "6ffa530a-bd29-4847-dd00-33dc28a28202"
      },
      "outputs": [
        {
          "output_type": "stream",
          "name": "stdout",
          "text": [
            "\u001b[1m4/4\u001b[0m \u001b[32m━━━━━━━━━━━━━━━━━━━━\u001b[0m\u001b[37m\u001b[0m \u001b[1m2s\u001b[0m 402ms/step - accuracy: 0.5921 - loss: 1.2755\n",
            "Test Accuracy: 57.41%\n"
          ]
        }
      ],
      "source": [
        "# Evaluate\n",
        "loss, acc = model.evaluate(test_gen)\n",
        "print(f\"Test Accuracy: {acc * 100:.2f}%\")\n"
      ]
    },
    {
      "cell_type": "code",
      "execution_count": null,
      "metadata": {
        "colab": {
          "base_uri": "https://localhost:8080/",
          "height": 445
        },
        "id": "2YrnmT6SmzAW",
        "outputId": "47b62110-af93-498d-b281-dbb7ef04f9b5"
      },
      "outputs": [
        {
          "output_type": "stream",
          "name": "stdout",
          "text": [
            "\u001b[1m1/1\u001b[0m \u001b[32m━━━━━━━━━━━━━━━━━━━━\u001b[0m\u001b[37m\u001b[0m \u001b[1m0s\u001b[0m 30ms/step\n"
          ]
        },
        {
          "output_type": "display_data",
          "data": {
            "text/plain": [
              "<Figure size 640x480 with 1 Axes>"
            ],
            "image/png": "[encoded data removed]"
          },
          "metadata": {}
        }
      ],
      "source": [
        "# Predict a test image\n",
        "from tensorflow.keras.preprocessing import image\n",
        "import numpy as np\n",
        "import matplotlib.pyplot as plt\n",
        "\n",
        "def predict_image(img_path):\n",
        "    img = image.load_img(img_path, target_size=img_size)\n",
        "    img_array = image.img_to_array(img) / 255.0\n",
        "    img_tensor = np.expand_dims(img_array, axis=0)\n",
        "\n",
        "    prediction = model.predict(img_tensor)\n",
        "    class_idx = np.argmax(prediction)\n",
        "    class_name = list(train_gen.class_indices.keys())[class_idx]\n",
        "\n",
        "    plt.imshow(img)\n",
        "    plt.title(f\"Prediction: {class_name}\")\n",
        "    plt.axis('off')\n",
        "    plt.show()\n",
        "\n",
        "# Example:\n",
        "predict_image(\"/content/fruits_split/test/orange fruit/Image_1.jpg\")\n"
      ]
    },
    {
      "cell_type": "code",
      "source": [],
      "metadata": {
        "id": "PN7m9coU0O2_"
      },
      "execution_count": null,
      "outputs": []
    }
  ],
  "metadata": {
    "colab": {
      "provenance": [],
      "gpuType": "T4",
      "mount_file_id": "1FahUFTXkXoNtxKOjy5-cpoJvKqgwRP3-",
      "authorship_tag": "ABX9TyMi3QYkwnHgOpdDsRn0RhrY",
      "include_colab_link": true
    },
    "kernelspec": {
      "display_name": "Python 3",
      "name": "python3"
    },
    "language_info": {
      "name": "python"
    },
    "accelerator": "GPU"
  },
  "nbformat": 4,
  "nbformat_minor": 0
}